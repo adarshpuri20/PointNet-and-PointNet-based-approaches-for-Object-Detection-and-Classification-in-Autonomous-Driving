{
 "cells": [
  {
   "cell_type": "code",
   "execution_count": 1,
   "metadata": {},
   "outputs": [
    {
     "name": "stdout",
     "output_type": "stream",
     "text": [
      "Jupyter environment detected. Enabling Open3D WebVisualizer.\n",
      "[Open3D INFO] WebRTC GUI backend enabled.\n",
      "[Open3D INFO] WebRTCWindowSystem: HTTP handshake server disabled.\n"
     ]
    }
   ],
   "source": [
    "import os\n",
    "import point_cloud_playground\n",
    "import open3d as o3d"
   ]
  },
  {
   "cell_type": "markdown",
   "metadata": {},
   "source": [
    "## Load Data"
   ]
  },
  {
   "cell_type": "code",
   "execution_count": 2,
   "metadata": {},
   "outputs": [],
   "source": [
    "data_folder = './data'"
   ]
  },
  {
   "cell_type": "code",
   "execution_count": 3,
   "metadata": {},
   "outputs": [],
   "source": [
    "files = os.listdir(data_folder)"
   ]
  },
  {
   "cell_type": "code",
   "execution_count": 4,
   "metadata": {},
   "outputs": [],
   "source": [
    "point_cloud_files = [file for file in files if file.endswith(('.ply'))]"
   ]
  },
  {
   "cell_type": "code",
   "execution_count": 5,
   "metadata": {},
   "outputs": [],
   "source": [
    "point_clouds = []\n",
    "for file in point_cloud_files:\n",
    "    file_path = os.path.join(data_folder,file)\n",
    "    point_cloud = o3d.io.read_point_cloud(file_path)\n",
    "    point_clouds.append((point_cloud,file))"
   ]
  },
  {
   "cell_type": "markdown",
   "metadata": {},
   "source": [
    "### visualize data"
   ]
  },
  {
   "cell_type": "code",
   "execution_count": 6,
   "metadata": {},
   "outputs": [],
   "source": [
    "o3d.visualization.draw_geometries(\n",
    "    [point_clouds[0][0]],\n",
    "    window_name=\"Open3D Visualization\",\n",
    "    width=800,\n",
    "    height=600,\n",
    "    left=50,\n",
    "    top=50,\n",
    "    point_show_normal=True\n",
    ")"
   ]
  },
  {
   "cell_type": "code",
   "execution_count": 7,
   "metadata": {},
   "outputs": [
    {
     "data": {
      "text/plain": [
       "array([[-0.1012109 ,  0.07229348,  0.7001285 ],\n",
       "       [-0.07348169,  0.08817801,  0.71163565],\n",
       "       [-0.01457525,  0.08745149,  0.70577228],\n",
       "       ...,\n",
       "       [ 0.15158254, -0.48567602,  1.40445578],\n",
       "       [ 0.11910991, -0.48977143,  1.43934286],\n",
       "       [ 0.10471008, -0.49163854,  1.45536315]])"
      ]
     },
     "execution_count": 7,
     "metadata": {},
     "output_type": "execute_result"
    }
   ],
   "source": [
    "import numpy as np\n",
    "np.asarray(point_cloud.points)"
   ]
  },
  {
   "cell_type": "markdown",
   "metadata": {},
   "source": [
    "## FLoor Detection "
   ]
  },
  {
   "cell_type": "code",
   "execution_count": 8,
   "metadata": {},
   "outputs": [],
   "source": [
    "\n",
    "from point_cloud_playground import utils\n",
    "def detect_and_visualize(point_cloud,PlaneDetector):\n",
    "    pc = point_cloud[0]\n",
    "    pc_name = point_cloud[1]\n",
    "    image_file_name = \"./images/\"+str(PlaneDetector.__name__)+\"_\"+str(pc_name)+\".png\"\n",
    "    plane_detector = PlaneDetector(pc)\n",
    "    floor_equation = plane_detector.detect_plane()\n",
    "    floor_mesh = utils.create_plane_from_equation(floor_equation,plane_size=1)\n",
    "    try:\n",
    "        visualization_window = o3d.visualization.draw_geometries(\n",
    "            [floor_mesh, plane_detector.point_cloud],\n",
    "            window_name=str(PlaneDetector.__name__)+\"_\"+str(pc_name),\n",
    "            width=800,\n",
    "            height=600,\n",
    "            left=50,\n",
    "            top=50,\n",
    "            point_show_normal=True\n",
    "        )\n",
    "        if visualization_window is not None:\n",
    "            visualization_window.capture_screen_image(image_file_name)\n",
    "            print(\"Image saved as:\", image_file_name)\n",
    "        else:\n",
    "            print(\"Error: Visualization window is None.\")\n",
    "    except Exception as e:\n",
    "        print(\"Error:\", e)"
   ]
  },
  {
   "cell_type": "code",
   "execution_count": 9,
   "metadata": {},
   "outputs": [
    {
     "name": "stdout",
     "output_type": "stream",
     "text": [
      "Error: Visualization window is None.\n",
      "Error: Visualization window is None.\n",
      "Error: Visualization window is None.\n",
      "Error: Visualization window is None.\n",
      "Error: Visualization window is None.\n",
      "Error: Visualization window is None.\n",
      "Error: Visualization window is None.\n",
      "Error: Visualization window is None.\n",
      "Error: Visualization window is None.\n",
      "Error: Visualization window is None.\n"
     ]
    }
   ],
   "source": [
    "from point_cloud_playground.plane_detector import PlaneDetectorRANSAC, PlaneDetectorConvexHull, PlaneDetectorPCA\n",
    "\n",
    "for pc in point_clouds:\n",
    "    detect_and_visualize(pc,PlaneDetectorRANSAC)\n"
   ]
  },
  {
   "cell_type": "markdown",
   "metadata": {},
   "source": [
    "## FLoor Reorientation"
   ]
  },
  {
   "cell_type": "code",
   "execution_count": 10,
   "metadata": {},
   "outputs": [],
   "source": [
    "plane_detector = PlaneDetectorRANSAC(point_clouds[1][0])\n",
    "plane_detector.detect_plane()\n",
    "status = plane_detector.reorient_plane()\n",
    "new_floor_equation = plane_detector.detect_plane()"
   ]
  },
  {
   "cell_type": "code",
   "execution_count": 11,
   "metadata": {},
   "outputs": [],
   "source": [
    "o3d.visualization.draw_geometries(\n",
    "    [plane_detector.point_cloud],\n",
    "    window_name=\"Open3D Visualization\",\n",
    "    width=800,\n",
    "    height=600,\n",
    "    left=50,\n",
    "    top=50,\n",
    "    point_show_normal=True\n",
    ")"
   ]
  },
  {
   "cell_type": "code",
   "execution_count": 12,
   "metadata": {},
   "outputs": [
    {
     "data": {
      "text/plain": [
       "(0.9999959509295026,\n",
       " 0.0028038956794303417,\n",
       " 0.0004861004204195983,\n",
       " 424.61832078134086)"
      ]
     },
     "execution_count": 12,
     "metadata": {},
     "output_type": "execute_result"
    }
   ],
   "source": [
    "new_floor_equation"
   ]
  },
  {
   "cell_type": "markdown",
   "metadata": {},
   "source": [
    "## Floor Smoother"
   ]
  },
  {
   "cell_type": "code",
   "execution_count": 13,
   "metadata": {},
   "outputs": [],
   "source": [
    "from point_cloud_playground.point_cloud_smoother import PointCloudSmoother\n",
    "smoother = PointCloudSmoother(plane_detector.point_cloud)\n",
    "smooth_mesh = smoother.poisson_surface_reconstruction()"
   ]
  },
  {
   "cell_type": "code",
   "execution_count": 14,
   "metadata": {},
   "outputs": [],
   "source": [
    "o3d.visualization.draw_geometries(\n",
    "    [smooth_mesh],\n",
    "    window_name=\"Smooth Mesh\",\n",
    "    width=800,\n",
    "    height=600,\n",
    "    left=50,\n",
    "    top=50,\n",
    "    point_show_normal=True\n",
    ")"
   ]
  }
 ],
 "metadata": {
  "kernelspec": {
   "display_name": "Python 3",
   "language": "python",
   "name": "python3"
  },
  "language_info": {
   "codemirror_mode": {
    "name": "ipython",
    "version": 3
   },
   "file_extension": ".py",
   "mimetype": "text/x-python",
   "name": "python",
   "nbconvert_exporter": "python",
   "pygments_lexer": "ipython3",
   "version": "3.7.10"
  }
 },
 "nbformat": 4,
 "nbformat_minor": 4
}
